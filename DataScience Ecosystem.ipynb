{
 "cells": [
  {
   "cell_type": "markdown",
   "id": "1c696ad9",
   "metadata": {},
   "source": [
    "# Data Science Tools and Ecosystem "
   ]
  },
  {
   "cell_type": "markdown",
   "id": "e29e2066",
   "metadata": {},
   "source": [
    "## In this notebook, Data Science Tools and Ecosystem are summarized. "
   ]
  },
  {
   "cell_type": "markdown",
   "id": "cdb93a67",
   "metadata": {},
   "source": [
    "## Some of the popular languages that Data Scientists use are:\n",
    "1. Python\n",
    "2. Javascript\n",
    "3. C++"
   ]
  },
  {
   "cell_type": "markdown",
   "id": "9b20adfc",
   "metadata": {},
   "source": [
    "## Some of the commonly used libraries used by Data Scientist include:\n",
    "1. Numpy\n",
    "2. Pandas\n",
    "3. Sckit-learn \n"
   ]
  },
  {
   "cell_type": "markdown",
   "id": "c8aef5f9",
   "metadata": {},
   "source": [
    "|Data Science Tools|\n",
    "|------|\n",
    "|Julia|\n",
    "|Jupyter Notebook|\n",
    "|Google Colab|\n"
   ]
  },
  {
   "cell_type": "markdown",
   "id": "24404594",
   "metadata": {},
   "source": [
    "### Below are a few examples of evaluating arithmeting expressions in python"
   ]
  },
  {
   "cell_type": "code",
   "execution_count": 3,
   "id": "1744ec34",
   "metadata": {},
   "outputs": [
    {
     "data": {
      "text/plain": [
       "17"
      ]
     },
     "execution_count": 3,
     "metadata": {},
     "output_type": "execute_result"
    }
   ],
   "source": [
    "(3*4)+5\n",
    "# this is a simple arithmetic expression to multiply then add integers. "
   ]
  },
  {
   "cell_type": "code",
   "execution_count": 6,
   "id": "6707f824",
   "metadata": {},
   "outputs": [
    {
     "data": {
      "text/plain": [
       "3"
      ]
     },
     "execution_count": 6,
     "metadata": {},
     "output_type": "execute_result"
    }
   ],
   "source": [
    "int(200/60)\n",
    "#This will convert 200 minutes to hours by diving by 60 "
   ]
  },
  {
   "cell_type": "markdown",
   "id": "0aaf39a1",
   "metadata": {},
   "source": [
    " ###  __Objectives__\n",
    " \n",
    " <p></p>\n",
    " \n",
    " <li> Learn to use numpy</li>\n",
    " <li> Learn to use pandas</li>\n",
    " <li> make graph in matplotlib</li>\n",
    "\n",
    "\n"
   ]
  },
  {
   "cell_type": "markdown",
   "id": "db73e70a",
   "metadata": {},
   "source": [
    "## Author\n",
    "\n",
    "Yunior Puentes"
   ]
  },
  {
   "cell_type": "code",
   "execution_count": null,
   "id": "bdcea90e",
   "metadata": {},
   "outputs": [],
   "source": []
  }
 ],
 "metadata": {
  "kernelspec": {
   "display_name": "Python 3 (ipykernel)",
   "language": "python",
   "name": "python3"
  },
  "language_info": {
   "codemirror_mode": {
    "name": "ipython",
    "version": 3
   },
   "file_extension": ".py",
   "mimetype": "text/x-python",
   "name": "python",
   "nbconvert_exporter": "python",
   "pygments_lexer": "ipython3",
   "version": "3.9.13"
  }
 },
 "nbformat": 4,
 "nbformat_minor": 5
}
